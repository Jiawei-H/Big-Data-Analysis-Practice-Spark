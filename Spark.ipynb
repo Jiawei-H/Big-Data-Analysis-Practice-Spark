{
 "cells": [
  {
   "cell_type": "markdown",
   "metadata": {},
   "source": [
    "# Programming Practice: Learning Classification with PySpark\n",
    "\n",
    "---\n",
    "\n",
    "In this pratice, we will explore how to use PySpark to perform random forest classification, evaluation and hyperparameter tuning. The goal of this practice for you is to learn about the PySpark library package and how to translate your existing knowledge of machine learning into this large-scale data processing framework.\n",
    "\n",
    "## Setup\n",
    "\n",
    "In order to work with the Spark context, we need to first create a Spark Session. To do so, we can run the code below."
   ]
  },
  {
   "cell_type": "code",
   "execution_count": 1,
   "metadata": {},
   "outputs": [
    {
     "name": "stdout",
     "output_type": "stream",
     "text": [
      "2.4.5 2.4.5\n"
     ]
    }
   ],
   "source": [
    "import pyspark\n",
    "from pyspark.sql import SparkSession, Row\n",
    "\n",
    "import os\n",
    "\n",
    "conf = pyspark.SparkConf().setAll([('spark.master', 'local[*]'),\n",
    "                                   ('spark.app.name', 'Weather Cluster Analysis')])\n",
    "spark = SparkSession.builder.config(conf=conf).getOrCreate()\n",
    "\n",
    "print (spark.version, pyspark.version.__version__)"
   ]
  },
  {
   "cell_type": "markdown",
   "metadata": {},
   "source": [
    "We will also import some previous libraries to assist our visualization and data manipulation work "
   ]
  },
  {
   "cell_type": "code",
   "execution_count": 2,
   "metadata": {},
   "outputs": [],
   "source": [
    "%matplotlib inline\n",
    "import matplotlib\n",
    "import matplotlib.pyplot as plt\n",
    "import pandas as pd\n",
    "import numpy as np0"
   ]
  },
  {
   "cell_type": "markdown",
   "metadata": {},
   "source": [
    "## Exploratory Data Analysis with Spark\n",
    "\n",
    "In this section, we will perform basic data manipulation task with Spark\n",
    "\n",
    "1) Here we want to load the **loan.csv** dataset into the spark context and assign the new DataFrame as **df**."
   ]
  },
  {
   "cell_type": "code",
   "execution_count": 4,
   "metadata": {
    "collapsed": false,
    "jupyter": {
     "outputs_hidden": false
    }
   },
   "outputs": [],
   "source": [
    "data_path = 'loans.csv'\n",
    "df = spark.read.csv(data_path, header=True, inferSchema=True).cache()"
   ]
  },
  {
   "cell_type": "markdown",
   "metadata": {},
   "source": [
    "2) Print out all the columns with the datatype 'int' from the DataFrame"
   ]
  },
  {
   "cell_type": "code",
   "execution_count": 5,
   "metadata": {},
   "outputs": [
    {
     "name": "stdout",
     "output_type": "stream",
     "text": [
      "['bc_open_to_buy', 'loan_amnt', 'max_bal_bc', 'total_bc_limit', 'total_rev_hi_lim', 'emp_length_int', 'grade_label', 'application_type_Joint App', 'home_ownership_MORTGAGE', 'home_ownership_OWN', 'home_ownership_RENT', 'term_ 60 months', 'title_Car financing', 'title_Credit card refinancing', 'title_Debt consolidation', 'title_Green loan', 'title_Home buying', 'title_Home improvement', 'title_Major purchase', 'title_Medical expenses', 'title_Moving and relocation', 'title_Other', 'title_Vacation', 'verification_status_Source Verified', 'verification_status_Verified']\n"
     ]
    }
   ],
   "source": [
    "df.dtypes\n",
    "\n",
    "columnlist = [item[0] for item in df.dtypes if item[1].startswith('int')]\n",
    "print(columnlist)"
   ]
  },
  {
   "cell_type": "markdown",
   "metadata": {},
   "source": [
    "3) Display the top 5 rows of the DataFrame"
   ]
  },
  {
   "cell_type": "code",
   "execution_count": 6,
   "metadata": {},
   "outputs": [
    {
     "name": "stdout",
     "output_type": "stream",
     "text": [
      "+----------+--------------+-------+--------+---------+----------+----------------+--------------+-------------+----------------+--------------+-----------+--------------------------+-----------------------+------------------+-------------------+---------------+-------------------+-----------------------------+------------------------+----------------+-----------------+----------------------+--------------------+----------------------+---------------------------+-----------+--------------+-----------------------------------+----------------------------+\n",
      "|annual_inc|bc_open_to_buy|bc_util|int_rate|loan_amnt|max_bal_bc|percent_bc_gt_75|total_bc_limit|total_rec_int|total_rev_hi_lim|emp_length_int|grade_label|application_type_Joint App|home_ownership_MORTGAGE|home_ownership_OWN|home_ownership_RENT|term_ 60 months|title_Car financing|title_Credit card refinancing|title_Debt consolidation|title_Green loan|title_Home buying|title_Home improvement|title_Major purchase|title_Medical expenses|title_Moving and relocation|title_Other|title_Vacation|verification_status_Source Verified|verification_status_Verified|\n",
      "+----------+--------------+-------+--------+---------+----------+----------------+--------------+-------------+----------------+--------------+-----------+--------------------------+-----------------------+------------------+-------------------+---------------+-------------------+-----------------------------+------------------------+----------------+-----------------+----------------------+--------------------+----------------------+---------------------------+-----------+--------------+-----------------------------------+----------------------------+\n",
      "|   65000.0|           232|   96.9|    23.4|     9600|      2264|            85.7|          7600|       352.04|           28500|             4|          1|                         0|                      0|                 0|                  1|              0|                  0|                            1|                       0|               0|                0|                     0|                   0|                     0|                          0|          0|             0|                                  0|                           0|\n",
      "|   33000.0|          4596|   66.9|   26.31|    16000|      2703|            55.6|         13900|       663.64|           34900|             1|          1|                         0|                      0|                 0|                  1|              1|                  0|                            1|                       0|               0|                0|                     0|                   0|                     0|                          0|          0|             0|                                  1|                           0|\n",
      "|   90000.0|          9503|   83.8|    23.4|    13000|     18037|            66.7|         58600|       476.73|           62600|             2|          1|                         0|                      1|                 0|                  0|              0|                  0|                            0|                       0|               0|                0|                     0|                   0|                     0|                          0|          1|             0|                                  0|                           1|\n",
      "|   43000.0|           126|   94.5|    23.4|     8000|      2174|           100.0|          2300|       293.37|           11100|             5|          1|                         0|                      0|                 1|                  0|              0|                  0|                            0|                       1|               0|                0|                     0|                   0|                     0|                          0|          0|             0|                                  1|                           0|\n",
      "|   49700.0|           491|   82.5|    23.4|     3300|      2091|            50.0|          2800|       121.01|            8900|             2|          1|                         0|                      0|                 0|                  1|              0|                  0|                            0|                       0|               0|                0|                     0|                   0|                     0|                          0|          0|             1|                                  1|                           0|\n",
      "+----------+--------------+-------+--------+---------+----------+----------------+--------------+-------------+----------------+--------------+-----------+--------------------------+-----------------------+------------------+-------------------+---------------+-------------------+-----------------------------+------------------------+----------------+-----------------+----------------------+--------------------+----------------------+---------------------------+-----------+--------------+-----------------------------------+----------------------------+\n",
      "only showing top 5 rows\n",
      "\n"
     ]
    }
   ],
   "source": [
    "df.show(5)"
   ]
  },
  {
   "cell_type": "markdown",
   "metadata": {},
   "source": [
    "4) Find all the column names inside the DataFrame except \"grade_label\" and \"int_rate\". Store these column names in a list called **feature_cols** and print the list out. "
   ]
  },
  {
   "cell_type": "code",
   "execution_count": 7,
   "metadata": {},
   "outputs": [
    {
     "name": "stdout",
     "output_type": "stream",
     "text": [
      "['annual_inc', 'bc_open_to_buy', 'bc_util', 'loan_amnt', 'max_bal_bc', 'percent_bc_gt_75', 'total_bc_limit', 'total_rec_int', 'total_rev_hi_lim', 'emp_length_int', 'application_type_Joint App', 'home_ownership_MORTGAGE', 'home_ownership_OWN', 'home_ownership_RENT', 'term_ 60 months', 'title_Car financing', 'title_Credit card refinancing', 'title_Debt consolidation', 'title_Green loan', 'title_Home buying', 'title_Home improvement', 'title_Major purchase', 'title_Medical expenses', 'title_Moving and relocation', 'title_Other', 'title_Vacation', 'verification_status_Source Verified', 'verification_status_Verified']\n"
     ]
    }
   ],
   "source": [
    "feature_cols = [c for c in df.schema.names if c not in {'grade_label','int_rate'}]\n",
    "print(feature_cols)"
   ]
  },
  {
   "cell_type": "markdown",
   "metadata": {},
   "source": [
    "5) Use **feature_cols** to only display the selected columns from the DataFrame. Print out only the first 5 rows of it."
   ]
  },
  {
   "cell_type": "code",
   "execution_count": 9,
   "metadata": {},
   "outputs": [
    {
     "name": "stdout",
     "output_type": "stream",
     "text": [
      "+----------+--------------+-------+---------+----------+----------------+--------------+-------------+----------------+--------------+--------------------------+-----------------------+------------------+-------------------+---------------+-------------------+-----------------------------+------------------------+----------------+-----------------+----------------------+--------------------+----------------------+---------------------------+-----------+--------------+-----------------------------------+----------------------------+\n",
      "|annual_inc|bc_open_to_buy|bc_util|loan_amnt|max_bal_bc|percent_bc_gt_75|total_bc_limit|total_rec_int|total_rev_hi_lim|emp_length_int|application_type_Joint App|home_ownership_MORTGAGE|home_ownership_OWN|home_ownership_RENT|term_ 60 months|title_Car financing|title_Credit card refinancing|title_Debt consolidation|title_Green loan|title_Home buying|title_Home improvement|title_Major purchase|title_Medical expenses|title_Moving and relocation|title_Other|title_Vacation|verification_status_Source Verified|verification_status_Verified|\n",
      "+----------+--------------+-------+---------+----------+----------------+--------------+-------------+----------------+--------------+--------------------------+-----------------------+------------------+-------------------+---------------+-------------------+-----------------------------+------------------------+----------------+-----------------+----------------------+--------------------+----------------------+---------------------------+-----------+--------------+-----------------------------------+----------------------------+\n",
      "|   65000.0|           232|   96.9|     9600|      2264|            85.7|          7600|       352.04|           28500|             4|                         0|                      0|                 0|                  1|              0|                  0|                            1|                       0|               0|                0|                     0|                   0|                     0|                          0|          0|             0|                                  0|                           0|\n",
      "|   33000.0|          4596|   66.9|    16000|      2703|            55.6|         13900|       663.64|           34900|             1|                         0|                      0|                 0|                  1|              1|                  0|                            1|                       0|               0|                0|                     0|                   0|                     0|                          0|          0|             0|                                  1|                           0|\n",
      "|   90000.0|          9503|   83.8|    13000|     18037|            66.7|         58600|       476.73|           62600|             2|                         0|                      1|                 0|                  0|              0|                  0|                            0|                       0|               0|                0|                     0|                   0|                     0|                          0|          1|             0|                                  0|                           1|\n",
      "|   43000.0|           126|   94.5|     8000|      2174|           100.0|          2300|       293.37|           11100|             5|                         0|                      0|                 1|                  0|              0|                  0|                            0|                       1|               0|                0|                     0|                   0|                     0|                          0|          0|             0|                                  1|                           0|\n",
      "|   49700.0|           491|   82.5|     3300|      2091|            50.0|          2800|       121.01|            8900|             2|                         0|                      0|                 0|                  1|              0|                  0|                            0|                       0|               0|                0|                     0|                   0|                     0|                          0|          0|             1|                                  1|                           0|\n",
      "+----------+--------------+-------+---------+----------+----------------+--------------+-------------+----------------+--------------+--------------------------+-----------------------+------------------+-------------------+---------------+-------------------+-----------------------------+------------------------+----------------+-----------------+----------------------+--------------------+----------------------+---------------------------+-----------+--------------+-----------------------------------+----------------------------+\n",
      "only showing top 5 rows\n",
      "\n"
     ]
    }
   ],
   "source": [
    "df.select(feature_cols).show(5)"
   ]
  },
  {
   "cell_type": "markdown",
   "metadata": {},
   "source": [
    "6) Print out all the unique values stored in \"grade_label\" and for each unique value, print out its total number of samples."
   ]
  },
  {
   "cell_type": "code",
   "execution_count": 10,
   "metadata": {},
   "outputs": [
    {
     "name": "stdout",
     "output_type": "stream",
     "text": [
      "+-----------+\n",
      "|grade_label|\n",
      "+-----------+\n",
      "|          1|\n",
      "|          3|\n",
      "|          2|\n",
      "+-----------+\n",
      "\n",
      "+-----------+-----+\n",
      "|grade_label|count|\n",
      "+-----------+-----+\n",
      "|          1|11040|\n",
      "|          3|10361|\n",
      "|          2|11932|\n",
      "+-----------+-----+\n",
      "\n"
     ]
    }
   ],
   "source": [
    "df.select(\"grade_label\").distinct().show()\n",
    "\n",
    "df.groupBy('grade_label').count().show()"
   ]
  },
  {
   "cell_type": "markdown",
   "metadata": {},
   "source": [
    "7) Print out the first 5 rows where the \"grade_label\" is 1"
   ]
  },
  {
   "cell_type": "code",
   "execution_count": 11,
   "metadata": {},
   "outputs": [
    {
     "name": "stdout",
     "output_type": "stream",
     "text": [
      "+----------+--------------+-------+--------+---------+----------+----------------+--------------+-------------+----------------+--------------+-----------+--------------------------+-----------------------+------------------+-------------------+---------------+-------------------+-----------------------------+------------------------+----------------+-----------------+----------------------+--------------------+----------------------+---------------------------+-----------+--------------+-----------------------------------+----------------------------+\n",
      "|annual_inc|bc_open_to_buy|bc_util|int_rate|loan_amnt|max_bal_bc|percent_bc_gt_75|total_bc_limit|total_rec_int|total_rev_hi_lim|emp_length_int|grade_label|application_type_Joint App|home_ownership_MORTGAGE|home_ownership_OWN|home_ownership_RENT|term_ 60 months|title_Car financing|title_Credit card refinancing|title_Debt consolidation|title_Green loan|title_Home buying|title_Home improvement|title_Major purchase|title_Medical expenses|title_Moving and relocation|title_Other|title_Vacation|verification_status_Source Verified|verification_status_Verified|\n",
      "+----------+--------------+-------+--------+---------+----------+----------------+--------------+-------------+----------------+--------------+-----------+--------------------------+-----------------------+------------------+-------------------+---------------+-------------------+-----------------------------+------------------------+----------------+-----------------+----------------------+--------------------+----------------------+---------------------------+-----------+--------------+-----------------------------------+----------------------------+\n",
      "|   65000.0|           232|   96.9|    23.4|     9600|      2264|            85.7|          7600|       352.04|           28500|             4|          1|                         0|                      0|                 0|                  1|              0|                  0|                            1|                       0|               0|                0|                     0|                   0|                     0|                          0|          0|             0|                                  0|                           0|\n",
      "|   33000.0|          4596|   66.9|   26.31|    16000|      2703|            55.6|         13900|       663.64|           34900|             1|          1|                         0|                      0|                 0|                  1|              1|                  0|                            1|                       0|               0|                0|                     0|                   0|                     0|                          0|          0|             0|                                  1|                           0|\n",
      "|   90000.0|          9503|   83.8|    23.4|    13000|     18037|            66.7|         58600|       476.73|           62600|             2|          1|                         0|                      1|                 0|                  0|              0|                  0|                            0|                       0|               0|                0|                     0|                   0|                     0|                          0|          1|             0|                                  0|                           1|\n",
      "|   43000.0|           126|   94.5|    23.4|     8000|      2174|           100.0|          2300|       293.37|           11100|             5|          1|                         0|                      0|                 1|                  0|              0|                  0|                            0|                       1|               0|                0|                     0|                   0|                     0|                          0|          0|             0|                                  1|                           0|\n",
      "|   49700.0|           491|   82.5|    23.4|     3300|      2091|            50.0|          2800|       121.01|            8900|             2|          1|                         0|                      0|                 0|                  1|              0|                  0|                            0|                       0|               0|                0|                     0|                   0|                     0|                          0|          0|             1|                                  1|                           0|\n",
      "+----------+--------------+-------+--------+---------+----------+----------------+--------------+-------------+----------------+--------------+-----------+--------------------------+-----------------------+------------------+-------------------+---------------+-------------------+-----------------------------+------------------------+----------------+-----------------+----------------------+--------------------+----------------------+---------------------------+-----------+--------------+-----------------------------------+----------------------------+\n",
      "only showing top 5 rows\n",
      "\n"
     ]
    }
   ],
   "source": [
    "df.filter(df.grade_label == \"1\").show(5)"
   ]
  },
  {
   "cell_type": "markdown",
   "metadata": {},
   "source": [
    "## Data Preprocessing with Spark\n",
    "\n",
    "To perform the random forest analysis on this dataset, we need to prepare/encode our feature columns in addition to the label column. Here, you are asked to perform data preprocessing using only the spark library functions.\n",
    "\n",
    "8) Take all the columns in **feature_cols** and concatenate their value into a vector format and create a new vector column named \"featuresRandomForest\" inside the DataFrame. Here, you want to use **VectorAssembler** from **pyspark.ml.feature** package to create such new column in the DataFrame."
   ]
  },
  {
   "cell_type": "code",
   "execution_count": 12,
   "metadata": {},
   "outputs": [
    {
     "name": "stdout",
     "output_type": "stream",
     "text": [
      "+----------+--------------+-------+--------+---------+----------+----------------+--------------+-------------+----------------+--------------+-----------+--------------------------+-----------------------+------------------+-------------------+---------------+-------------------+-----------------------------+------------------------+----------------+-----------------+----------------------+--------------------+----------------------+---------------------------+-----------+--------------+-----------------------------------+----------------------------+--------------------+\n",
      "|annual_inc|bc_open_to_buy|bc_util|int_rate|loan_amnt|max_bal_bc|percent_bc_gt_75|total_bc_limit|total_rec_int|total_rev_hi_lim|emp_length_int|grade_label|application_type_Joint App|home_ownership_MORTGAGE|home_ownership_OWN|home_ownership_RENT|term_ 60 months|title_Car financing|title_Credit card refinancing|title_Debt consolidation|title_Green loan|title_Home buying|title_Home improvement|title_Major purchase|title_Medical expenses|title_Moving and relocation|title_Other|title_Vacation|verification_status_Source Verified|verification_status_Verified|featuresRandomForest|\n",
      "+----------+--------------+-------+--------+---------+----------+----------------+--------------+-------------+----------------+--------------+-----------+--------------------------+-----------------------+------------------+-------------------+---------------+-------------------+-----------------------------+------------------------+----------------+-----------------+----------------------+--------------------+----------------------+---------------------------+-----------+--------------+-----------------------------------+----------------------------+--------------------+\n",
      "|   65000.0|           232|   96.9|    23.4|     9600|      2264|            85.7|          7600|       352.04|           28500|             4|          1|                         0|                      0|                 0|                  1|              0|                  0|                            1|                       0|               0|                0|                     0|                   0|                     0|                          0|          0|             0|                                  0|                           0|(28,[0,1,2,3,4,5,...|\n",
      "+----------+--------------+-------+--------+---------+----------+----------------+--------------+-------------+----------------+--------------+-----------+--------------------------+-----------------------+------------------+-------------------+---------------+-------------------+-----------------------------+------------------------+----------------+-----------------+----------------------+--------------------+----------------------+---------------------------+-----------+--------------+-----------------------------------+----------------------------+--------------------+\n",
      "only showing top 1 row\n",
      "\n"
     ]
    }
   ],
   "source": [
    "from pyspark.ml.feature import VectorAssembler\n",
    "\n",
    "assembler = VectorAssembler(inputCols=feature_cols, outputCol='featuresRandomForest')\n",
    "featuresDF = assembler.transform(df)\n",
    "featuresDF.show(1)"
   ]
  },
  {
   "cell_type": "markdown",
   "metadata": {},
   "source": [
    "9)  Make a duplicate column of \"grade_label\" and name the new column as \"labelRandomForest\" "
   ]
  },
  {
   "cell_type": "code",
   "execution_count": 13,
   "metadata": {
    "collapsed": false,
    "jupyter": {
     "outputs_hidden": false
    }
   },
   "outputs": [
    {
     "name": "stdout",
     "output_type": "stream",
     "text": [
      "+----------+--------------+-------+--------+---------+----------+----------------+--------------+-------------+----------------+--------------+-----------+--------------------------+-----------------------+------------------+-------------------+---------------+-------------------+-----------------------------+------------------------+----------------+-----------------+----------------------+--------------------+----------------------+---------------------------+-----------+--------------+-----------------------------------+----------------------------+--------------------+-----------------+\n",
      "|annual_inc|bc_open_to_buy|bc_util|int_rate|loan_amnt|max_bal_bc|percent_bc_gt_75|total_bc_limit|total_rec_int|total_rev_hi_lim|emp_length_int|grade_label|application_type_Joint App|home_ownership_MORTGAGE|home_ownership_OWN|home_ownership_RENT|term_ 60 months|title_Car financing|title_Credit card refinancing|title_Debt consolidation|title_Green loan|title_Home buying|title_Home improvement|title_Major purchase|title_Medical expenses|title_Moving and relocation|title_Other|title_Vacation|verification_status_Source Verified|verification_status_Verified|featuresRandomForest|labelRandomForest|\n",
      "+----------+--------------+-------+--------+---------+----------+----------------+--------------+-------------+----------------+--------------+-----------+--------------------------+-----------------------+------------------+-------------------+---------------+-------------------+-----------------------------+------------------------+----------------+-----------------+----------------------+--------------------+----------------------+---------------------------+-----------+--------------+-----------------------------------+----------------------------+--------------------+-----------------+\n",
      "|   65000.0|           232|   96.9|    23.4|     9600|      2264|            85.7|          7600|       352.04|           28500|             4|          1|                         0|                      0|                 0|                  1|              0|                  0|                            1|                       0|               0|                0|                     0|                   0|                     0|                          0|          0|             0|                                  0|                           0|(28,[0,1,2,3,4,5,...|                1|\n",
      "+----------+--------------+-------+--------+---------+----------+----------------+--------------+-------------+----------------+--------------+-----------+--------------------------+-----------------------+------------------+-------------------+---------------+-------------------+-----------------------------+------------------------+----------------+-----------------+----------------------+--------------------+----------------------+---------------------------+-----------+--------------+-----------------------------------+----------------------------+--------------------+-----------------+\n",
      "only showing top 1 row\n",
      "\n"
     ]
    }
   ],
   "source": [
    "featuresDF_1=featuresDF.withColumn(\"labelRandomForest\", featuresDF[\"grade_label\"])\n",
    "featuresDF_1.show(1)"
   ]
  },
  {
   "cell_type": "markdown",
   "metadata": {},
   "source": [
    "10) Perform 80/20 train test split on the DataFrame. Note here that the number of rows in the training dataframe should have 80% of the total rows from the original dataframe. Print out the total numbers of rows in both train and test dataframes."
   ]
  },
  {
   "cell_type": "code",
   "execution_count": 14,
   "metadata": {},
   "outputs": [
    {
     "name": "stdout",
     "output_type": "stream",
     "text": [
      "**total numbers of rows in train dataframes is: 26703\n",
      "**total numbers of rows in train dataframes is: 6630\n"
     ]
    }
   ],
   "source": [
    "train_df, test_df = featuresDF_1.randomSplit((0.80, 0.20), seed=30)\n",
    "print('**total numbers of rows in train dataframes is:',train_df.count())\n",
    "print('**total numbers of rows in train dataframes is:',test_df.count())"
   ]
  },
  {
   "cell_type": "markdown",
   "metadata": {},
   "source": [
    "11) Display the first 5 rows of columns \"featuresRandomForest\" and \"labelRandomForest\" from the training dataframe. In this display, rather than using show() function, you need to visualize the dataframe by converting it to Pandas DataFrame."
   ]
  },
  {
   "cell_type": "code",
   "execution_count": 15,
   "metadata": {},
   "outputs": [
    {
     "data": {
      "text/html": [
       "<div>\n",
       "<style scoped>\n",
       "    .dataframe tbody tr th:only-of-type {\n",
       "        vertical-align: middle;\n",
       "    }\n",
       "\n",
       "    .dataframe tbody tr th {\n",
       "        vertical-align: top;\n",
       "    }\n",
       "\n",
       "    .dataframe thead th {\n",
       "        text-align: right;\n",
       "    }\n",
       "</style>\n",
       "<table border=\"1\" class=\"dataframe\">\n",
       "  <thead>\n",
       "    <tr style=\"text-align: right;\">\n",
       "      <th></th>\n",
       "      <th>featuresRandomForest</th>\n",
       "      <th>labelRandomForest</th>\n",
       "    </tr>\n",
       "  </thead>\n",
       "  <tbody>\n",
       "    <tr>\n",
       "      <th>0</th>\n",
       "      <td>(0.0, 0.0, 100.2, 35000.0, 7171.0, 100.0, 1720...</td>\n",
       "      <td>1</td>\n",
       "    </tr>\n",
       "    <tr>\n",
       "      <th>1</th>\n",
       "      <td>(0.0, 0.0, 100.3, 20800.0, 32861.0, 100.0, 578...</td>\n",
       "      <td>1</td>\n",
       "    </tr>\n",
       "    <tr>\n",
       "      <th>2</th>\n",
       "      <td>(0.0, 0.0, 100.4, 12000.0, 4167.0, 100.0, 7700...</td>\n",
       "      <td>3</td>\n",
       "    </tr>\n",
       "    <tr>\n",
       "      <th>3</th>\n",
       "      <td>(0.0, 0.0, 100.4, 3000.0, 2050.0, 100.0, 4000....</td>\n",
       "      <td>2</td>\n",
       "    </tr>\n",
       "    <tr>\n",
       "      <th>4</th>\n",
       "      <td>(0.0, 0.0, 102.0, 11000.0, 4075.0, 100.0, 9400...</td>\n",
       "      <td>1</td>\n",
       "    </tr>\n",
       "  </tbody>\n",
       "</table>\n",
       "</div>"
      ],
      "text/plain": [
       "                                featuresRandomForest  labelRandomForest\n",
       "0  (0.0, 0.0, 100.2, 35000.0, 7171.0, 100.0, 1720...                  1\n",
       "1  (0.0, 0.0, 100.3, 20800.0, 32861.0, 100.0, 578...                  1\n",
       "2  (0.0, 0.0, 100.4, 12000.0, 4167.0, 100.0, 7700...                  3\n",
       "3  (0.0, 0.0, 100.4, 3000.0, 2050.0, 100.0, 4000....                  2\n",
       "4  (0.0, 0.0, 102.0, 11000.0, 4075.0, 100.0, 9400...                  1"
      ]
     },
     "execution_count": 15,
     "metadata": {},
     "output_type": "execute_result"
    }
   ],
   "source": [
    "train_df.select('featuresRandomForest','labelRandomForest').toPandas().head(5)"
   ]
  },
  {
   "cell_type": "markdown",
   "metadata": {},
   "source": [
    "### Explore Model Training/Evaluation with Random Forest Classifier"
   ]
  },
  {
   "cell_type": "markdown",
   "metadata": {},
   "source": [
    "12) Use the RandomForestClassifier from pyspark.ml.classification and perform the model training on our training dataframe. Since we have named our feature vector column as \"featuresRandomForest\" and our label column as \"labelRandomForest\", you need to think how to set certain parameters to ensure the model knows where to retrieve the feature and label information."
   ]
  },
  {
   "cell_type": "code",
   "execution_count": 16,
   "metadata": {},
   "outputs": [],
   "source": [
    "from pyspark.ml.classification import RandomForestClassifier\n",
    "\n",
    "rf = RandomForestClassifier(numTrees=20, featuresCol = 'featuresRandomForest', labelCol='labelRandomForest')\n",
    "rfModel = rf.fit(train_df)"
   ]
  },
  {
   "cell_type": "markdown",
   "metadata": {},
   "source": [
    "13) Print out the feature importances of the model and use matplotlib to draw a horizontal bar plot with x being the importance value and y being their respective column name. Make sure your plot is clearly labeled. What is the most important feature in your trained RandomForestClassifier?"
   ]
  },
  {
   "cell_type": "code",
   "execution_count": 17,
   "metadata": {},
   "outputs": [
    {
     "name": "stdout",
     "output_type": "stream",
     "text": [
      "**Answer: The importance value of the model are:\n"
     ]
    },
    {
     "data": {
      "text/plain": [
       "SparseVector(28, {0: 0.0028, 1: 0.1221, 2: 0.0398, 3: 0.0309, 4: 0.0054, 5: 0.0246, 6: 0.0279, 7: 0.5815, 8: 0.0177, 9: 0.0001, 10: 0.0016, 11: 0.0033, 12: 0.0003, 13: 0.0005, 14: 0.0735, 16: 0.023, 17: 0.001, 20: 0.0, 23: 0.0001, 24: 0.0038, 26: 0.0013, 27: 0.0388})"
      ]
     },
     "metadata": {},
     "output_type": "display_data"
    },
    {
     "name": "stdout",
     "output_type": "stream",
     "text": [
      "**Answer: According to the graph, the most important feature in the trained RandomForestClassifier is: total rec int, the interest revceived to date, having the importance value above 0.6.\n"
     ]
    },
    {
     "data": {
      "image/png": "[encoded data removed]",
      "text/plain": [
       "<Figure size 720x432 with 1 Axes>"
      ]
     },
     "metadata": {
      "needs_background": "light"
     },
     "output_type": "display_data"
    }
   ],
   "source": [
    "y = rfModel.featureImportances.toArray()\n",
    "print('**Answer: The importance value of the model are:')\n",
    "display(rfModel.featureImportances)\n",
    "\n",
    "print('**Answer: According to the graph, the most important feature in the trained RandomForestClassifier is: total rec int, the interest revceived to date, having the importance value above 0.6.')\n",
    "\n",
    "x = feature_cols\n",
    "\n",
    "plt.figure(num = 1,figsize=(10,6))\n",
    "plt.barh(range(len(x)),y)\n",
    "plt.xlabel('Importance Value')\n",
    "plt.title('Importance value of different column names')\n",
    "\n",
    "plt.yticks(range(len(x)), x)\n",
    "\n",
    "plt.show()"
   ]
  },
  {
   "cell_type": "markdown",
   "metadata": {},
   "source": [
    "14) Perform predictions on both training dataframe and testing dataframe. Display the first 10 prediction results from both dataframe. "
   ]
  },
  {
   "cell_type": "code",
   "execution_count": 18,
   "metadata": {},
   "outputs": [
    {
     "name": "stdout",
     "output_type": "stream",
     "text": [
      "**First 10 prediction results from training dataframe are:/n\n"
     ]
    },
    {
     "data": {
      "text/plain": [
       "0    1.0\n",
       "1    1.0\n",
       "2    2.0\n",
       "3    2.0\n",
       "4    1.0\n",
       "5    1.0\n",
       "6    2.0\n",
       "7    2.0\n",
       "8    2.0\n",
       "9    1.0\n",
       "Name: prediction, dtype: float64"
      ]
     },
     "metadata": {},
     "output_type": "display_data"
    },
    {
     "name": "stdout",
     "output_type": "stream",
     "text": [
      "**First 10 prediction results from testing dataframe are:/n\n"
     ]
    },
    {
     "data": {
      "text/plain": [
       "0    2.0\n",
       "1    2.0\n",
       "2    2.0\n",
       "3    1.0\n",
       "4    2.0\n",
       "5    2.0\n",
       "6    2.0\n",
       "7    2.0\n",
       "8    2.0\n",
       "9    3.0\n",
       "Name: prediction, dtype: float64"
      ]
     },
     "metadata": {},
     "output_type": "display_data"
    }
   ],
   "source": [
    "predictions_train = rfModel.transform(train_df)\n",
    "predictions_test = rfModel.transform(test_df)\n",
    "\n",
    "print('**First 10 prediction results from training dataframe are:/n')\n",
    "display(predictions_train.toPandas()['prediction'].head(10))\n",
    "print('**First 10 prediction results from testing dataframe are:/n')\n",
    "display(predictions_test.toPandas()['prediction'].head(10))"
   ]
  },
  {
   "cell_type": "markdown",
   "metadata": {},
   "source": [
    "15) Finally, we want to look at the evaluation metrics of our model training result in pyspark. In this case particularly, we will use the class package **MulticlassClassificationEvaluator** to calculate the overall accuracy, f1 score, precision and recall. You need to print out the weighted F1, accuracy, weightedPrecision and weightedRecall on the testing dataset in your output."
   ]
  },
  {
   "cell_type": "code",
   "execution_count": 19,
   "metadata": {},
   "outputs": [
    {
     "name": "stdout",
     "output_type": "stream",
     "text": [
      "**F1-score on the testing dataset is: 0.68661\n",
      "**Accuracy on the testing dataset is： 0.67979\n",
      "**Weighted Precision on the testing dataset is: 0.72156\n",
      "**Weighted Precision on the testing dataset is: 0.67979\n"
     ]
    }
   ],
   "source": [
    "from pyspark.ml.evaluation import MulticlassClassificationEvaluator\n",
    "\n",
    "rf_f1 = MulticlassClassificationEvaluator(labelCol=\"labelRandomForest\", predictionCol='prediction',metricName='f1').evaluate(predictions_test)\n",
    "print('**F1-score on the testing dataset is: {0:.5}'.format(rf_f1))\n",
    "rf_accuracy=MulticlassClassificationEvaluator(labelCol='labelRandomForest',predictionCol='prediction',metricName='accuracy').evaluate(predictions_test)\n",
    "print('**Accuracy on the testing dataset is： {0:.5}'.format(rf_accuracy))\n",
    "rf_weightedPrecision = MulticlassClassificationEvaluator(labelCol=\"labelRandomForest\", predictionCol='prediction',metricName='weightedPrecision').evaluate(predictions_test)\n",
    "print('**Weighted Precision on the testing dataset is: {0:.5}'.format(rf_weightedPrecision))\n",
    "rf_weightedRecall = MulticlassClassificationEvaluator(labelCol=\"labelRandomForest\", predictionCol='prediction',metricName='weightedRecall').evaluate(predictions_test)\n",
    "print('**Weighted Precision on the testing dataset is: {0:.5}'.format(rf_weightedRecall))"
   ]
  },
  {
   "cell_type": "markdown",
   "metadata": {},
   "source": [
    "### Stop Spark"
   ]
  },
  {
   "cell_type": "code",
   "execution_count": 20,
   "metadata": {},
   "outputs": [],
   "source": [
    "spark.stop()"
   ]
  }
 ],
 "metadata": {
  "kernelspec": {
   "display_name": "Python 3",
   "language": "python",
   "name": "python3"
  },
  "language_info": {
   "codemirror_mode": {
    "name": "ipython",
    "version": 3
   },
   "file_extension": ".py",
   "mimetype": "text/x-python",
   "name": "python",
   "nbconvert_exporter": "python",
   "pygments_lexer": "ipython3",
   "version": "3.7.6"
  }
 },
 "nbformat": 4,
 "nbformat_minor": 4
}
